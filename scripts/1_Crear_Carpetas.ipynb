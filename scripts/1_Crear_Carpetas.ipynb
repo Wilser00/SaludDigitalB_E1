{
 "cells": [
  {
   "cell_type": "code",
   "execution_count": 1,
   "id": "ceb00b4d",
   "metadata": {},
   "outputs": [
    {
     "name": "stdout",
     "output_type": "stream",
     "text": [
      "Carpeta 'data' creada o ya existente en: c:\\Users\\YENNY\\documents\\SaludDigitalB_E1\\data\n",
      "Carpeta 'database' creada o ya existente en: c:\\Users\\YENNY\\documents\\SaludDigitalB_E1\\database\n",
      "Carpeta 'reports' creada o ya existente en: c:\\Users\\YENNY\\documents\\SaludDigitalB_E1\\reports\n",
      "Carpeta 'ci' creada o ya existente en: c:\\Users\\YENNY\\documents\\SaludDigitalB_E1\\ci\n",
      "Carpeta 'git' creada o ya existente en: c:\\Users\\YENNY\\documents\\SaludDigitalB_E1\\git\n",
      "Carpeta 'scripts' creada o ya existente en: c:\\Users\\YENNY\\documents\\SaludDigitalB_E1\\scripts\n"
     ]
    }
   ],
   "source": [
    "# scripts/1_Crear_Carpetas.ipynb\n",
    "\n",
    "from pathlib import Path\n",
    "\n",
    "# Lista de carpetas requeridas por la tarea\n",
    "carpetas = [\"data\", \"database\", \"reports\", \"ci\", \"git\", \"scripts\"]\n",
    "\n",
    "# Bucle para crear cada carpeta en el directorio principal del proyecto\n",
    "for carpeta in carpetas:\n",
    "  # La ruta se construye subiendo un nivel desde 'scripts' y luego entrando en la carpeta\n",
    "  ruta = Path.cwd().parent / carpeta\n",
    "  # Crear la carpeta si no existe\n",
    "  ruta.mkdir(parents=True, exist_ok=True)\n",
    "  print(f\"Carpeta '{carpeta}' creada o ya existente en: {ruta}\")"
   ]
  }
 ],
 "metadata": {
  "kernelspec": {
   "display_name": "myenv",
   "language": "python",
   "name": "python3"
  },
  "language_info": {
   "codemirror_mode": {
    "name": "ipython",
    "version": 3
   },
   "file_extension": ".py",
   "mimetype": "text/x-python",
   "name": "python",
   "nbconvert_exporter": "python",
   "pygments_lexer": "ipython3",
   "version": "3.14.0"
  }
 },
 "nbformat": 4,
 "nbformat_minor": 5
}
