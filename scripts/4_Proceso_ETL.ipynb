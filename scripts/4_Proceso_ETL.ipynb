{
 "cells": [
  {
   "cell_type": "code",
   "execution_count": null,
   "id": "60dc0361",
   "metadata": {},
   "outputs": [],
   "source": [
    "# scripts/4_Proceso_ETL.ipynb\n",
    "\n",
    "import pandas as pd\n",
    "from pathlib import Path\n",
    "\n",
    "# Definir rutas\n",
    "input_file = Path.cwd().parent / \"data\" / \"pacientes.csv\"\n",
    "output_file = Path.cwd().parent / \"database\" / \"pacientes_clean.csv\"\n",
    "\n",
    "# Leer el CSV\n",
    "df = pd.read_csv(input_file)\n",
    "\n",
    "print(\"Datos antes de la limpieza:\")\n",
    "print(df.info())\n",
    "print(\"\\nValores nulos antes:\")\n",
    "print(df.isnull().sum())\n",
    "\n",
    "# 1. Eliminar duplicados\n",
    "df.drop_duplicates(inplace=True)\n",
    "\n",
    "# 2. Rellenar valores nulos (NA y None)\n",
    "# Para 'sexo', usamos 'No especificado'\n",
    "df['sexo'].fillna('No especificado', inplace=True)\n",
    "df['sexo'] = df['sexo'].replace('NA', 'No especificado')\n",
    "# Para 'servicio', usamos 'Consulta General'\n",
    "df['servicio'].fillna('Consulta General', inplace=True)\n",
    "df['servicio'] = df['servicio'].replace('NA', 'Consulta General')\n",
    "\n",
    "# 3. Formatear fechas (si es necesario)\n",
    "df['fecha_atencion'] = pd.to_datetime(df['fecha_atencion'])\n",
    "\n",
    "# 4. Validar tipos de datos\n",
    "df['edad'] = df['edad'].astype(int)\n",
    "df['monto'] = df['monto'].astype(float)\n",
    "\n",
    "print(\"\\nDatos después de la limpieza:\")\n",
    "print(df.info())\n",
    "print(\"\\nValores nulos después:\")\n",
    "print(df.isnull().sum())\n",
    "\n",
    "# 5. Guardar el archivo limpio\n",
    "df.to_csv(output_file, index=False, encoding='utf-8')\n",
    "\n",
    "print(f\"\\nArchivo limpio guardado en: {output_file}\")"
   ]
  }
 ],
 "metadata": {
  "kernelspec": {
   "display_name": "myenv",
   "language": "python",
   "name": "python3"
  },
  "language_info": {
   "codemirror_mode": {
    "name": "ipython",
    "version": 3
   },
   "file_extension": ".py",
   "mimetype": "text/x-python",
   "name": "python",
   "nbconvert_exporter": "python",
   "pygments_lexer": "ipython3",
   "version": "3.14.0"
  }
 },
 "nbformat": 4,
 "nbformat_minor": 5
}
