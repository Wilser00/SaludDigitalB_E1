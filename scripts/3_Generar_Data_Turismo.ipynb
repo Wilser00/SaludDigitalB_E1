{
 "cells": [
  {
   "cell_type": "code",
   "execution_count": 1,
   "id": "a233e1fa",
   "metadata": {},
   "outputs": [
    {
     "name": "stdout",
     "output_type": "stream",
     "text": [
      "Archivo 'pacientes.csv' generado con 3000 registros.\n"
     ]
    }
   ],
   "source": [
    "# scripts/3_Generar_Data_Pacientes.ipynb\n",
    "\n",
    "from pathlib import Path\n",
    "import csv\n",
    "import random\n",
    "import names\n",
    "from datetime import datetime, timedelta\n",
    "\n",
    "# 1. Define la ruta y el nombre del archivo.\n",
    "csv_file = Path.cwd().parent / \"data\" / \"pacientes.csv\"\n",
    "\n",
    "# Listas de datos para la simulación.\n",
    "sexos = [\"M\", \"F\", \"NA\", None]\n",
    "distritos = [\"Miraflores\", \"Surco\", \"San Isidro\", \"La Molina\", \"Lince\", \"Comas\", \"SJL\"]\n",
    "servicios = [\"Odontología\", \"Pediatría\", \"Cardiología\", \"Medicina General\", \"Traumatología\", \"NA\", None]\n",
    "\n",
    "# Función para generar fechas aleatorias.\n",
    "def generar_fecha():\n",
    "    start_date = datetime(2022, 1, 1)\n",
    "    end_date = datetime(2024, 12, 31)\n",
    "    time_between_dates = end_date - start_date\n",
    "    random_number_of_days = random.randrange(time_between_dates.days)\n",
    "    random_date = start_date + timedelta(days=random_number_of_days)\n",
    "    return random_date.strftime(\"%Y-%m-%d\")\n",
    "\n",
    "# Genera los 3000 registros.\n",
    "registros = []\n",
    "for i in range(1, 3001):\n",
    "    id_paciente = f\"P{str(i).zfill(4)}\"\n",
    "    nombre = names.get_full_name()\n",
    "    edad = random.randint(1, 95)\n",
    "    sexo = random.choice(sexos)\n",
    "    distrito = random.choice(distritos)\n",
    "    servicio = random.choice(servicios)\n",
    "    fecha_atencion = generar_fecha()\n",
    "    monto = round(random.uniform(50.0, 500.0), 2)\n",
    "    registros.append([id_paciente, nombre, edad, sexo, distrito, servicio, fecha_atencion, monto])\n",
    "\n",
    "# 2. Esta línea CREA el archivo pacientes.csv gracias al modo \"w\".\n",
    "cabeceras = ['id_paciente', 'nombre', 'edad', 'sexo', 'distrito', 'servicio', 'fecha_atencion', 'monto']\n",
    "with open(csv_file, mode=\"w\", newline=\"\", encoding=\"utf-8\") as file:\n",
    "    writer = csv.writer(file)\n",
    "    writer.writerow(cabeceras)\n",
    "    writer.writerows(registros)\n",
    "\n",
    "print(f\"Archivo '{csv_file.name}' generado con {len(registros)} registros.\")"
   ]
  }
 ],
 "metadata": {
  "kernelspec": {
   "display_name": "myenv",
   "language": "python",
   "name": "python3"
  },
  "language_info": {
   "codemirror_mode": {
    "name": "ipython",
    "version": 3
   },
   "file_extension": ".py",
   "mimetype": "text/x-python",
   "name": "python",
   "nbconvert_exporter": "python",
   "pygments_lexer": "ipython3",
   "version": "3.14.0"
  }
 },
 "nbformat": 4,
 "nbformat_minor": 5
}
