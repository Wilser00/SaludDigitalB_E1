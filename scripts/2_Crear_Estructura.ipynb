{
 "cells": [
  {
   "cell_type": "code",
   "execution_count": 4,
   "id": "a5554df9",
   "metadata": {},
   "outputs": [
    {
     "name": "stdout",
     "output_type": "stream",
     "text": [
      "Archivo 'base.csv' creado correctamente con las cabeceras.\n"
     ]
    }
   ],
   "source": [
    "# scripts/2_Crear_Estructura.ipynb\n",
    "\n",
    "from pathlib import Path\n",
    "import csv\n",
    "\n",
    "# Ruta a la carpeta 'data'\n",
    "data_path = Path.cwd().parent / \"data\"\n",
    "\n",
    "# Nombre del archivo base\n",
    "archivo_base = data_path / \"base.csv\"\n",
    "\n",
    "# Cabeceras para el archivo de pacientes\n",
    "cabeceras = ['id_paciente', 'nombre', 'edad', 'sexo', 'distrito', 'servicio', 'fecha_atencion', 'monto']\n",
    "\n",
    "# Crear el archivo CSV si no existe\n",
    "if not archivo_base.exists():\n",
    "    with open(archivo_base, \"w\", newline=\"\", encoding=\"utf-8\") as f:\n",
    "        writer = csv.writer(f)\n",
    "        writer.writerow(cabeceras)\n",
    "    print(f\"Archivo '{archivo_base.name}' creado correctamente con las cabeceras.\")\n",
    "else:\n",
    "    print(f\"El archivo '{archivo_base.name}' ya existe.\")"
   ]
  }
 ],
 "metadata": {
  "kernelspec": {
   "display_name": "myenv",
   "language": "python",
   "name": "python3"
  },
  "language_info": {
   "codemirror_mode": {
    "name": "ipython",
    "version": 3
   },
   "file_extension": ".py",
   "mimetype": "text/x-python",
   "name": "python",
   "nbconvert_exporter": "python",
   "pygments_lexer": "ipython3",
   "version": "3.14.0"
  }
 },
 "nbformat": 4,
 "nbformat_minor": 5
}
