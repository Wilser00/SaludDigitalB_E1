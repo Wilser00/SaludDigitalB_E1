{
 "cells": [
  {
   "cell_type": "code",
   "execution_count": 1,
   "id": "e7846548",
   "metadata": {},
   "outputs": [
    {
     "name": "stdout",
     "output_type": "stream",
     "text": [
      "Se insertaron 3000 registros en la colección 'pacientes'.\n"
     ]
    }
   ],
   "source": [
    "# scripts/5_Loading_MongoDB.ipynb\n",
    "\n",
    "import pandas as pd\n",
    "from pymongo import MongoClient\n",
    "from pathlib import Path\n",
    "\n",
    "# Conectarse a MongoDB\n",
    "client = MongoClient(\"mongodb://localhost:27017/\")\n",
    "# Crear o usar la base de datos 'SaludDigital_2025'\n",
    "db = client[\"SaludDigital_2025\"]\n",
    "# Crear o usar la colección 'pacientes'\n",
    "collection = db[\"pacientes\"]\n",
    "\n",
    "# Ruta del archivo limpio\n",
    "csv_file = Path.cwd().parent / \"database\" / \"pacientes_clean.csv\"\n",
    "\n",
    "# Leer los datos\n",
    "df = pd.read_csv(csv_file)\n",
    "\n",
    "# Convertir el DataFrame a una lista de diccionarios (formato JSON)\n",
    "data = df.to_dict(orient=\"records\")\n",
    "\n",
    "# Limpiar la colección antes de insertar para evitar duplicados en cada ejecución\n",
    "collection.delete_many({})\n",
    "\n",
    "# Insertar los datos en la colección\n",
    "collection.insert_many(data)\n",
    "\n",
    "print(f\"Se insertaron {len(data)} registros en la colección 'pacientes'.\")\n",
    "\n",
    "# Cerrar la conexión\n",
    "client.close()"
   ]
  }
 ],
 "metadata": {
  "kernelspec": {
   "display_name": "myenv",
   "language": "python",
   "name": "python3"
  },
  "language_info": {
   "codemirror_mode": {
    "name": "ipython",
    "version": 3
   },
   "file_extension": ".py",
   "mimetype": "text/x-python",
   "name": "python",
   "nbconvert_exporter": "python",
   "pygments_lexer": "ipython3",
   "version": "3.14.0"
  }
 },
 "nbformat": 4,
 "nbformat_minor": 5
}
